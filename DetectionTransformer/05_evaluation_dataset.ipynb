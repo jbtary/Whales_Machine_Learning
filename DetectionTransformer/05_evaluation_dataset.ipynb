{
 "cells": [
  {
   "cell_type": "markdown",
   "metadata": {},
   "source": [
    "# Jupyter notebook to create the evaluation dataset"
   ]
  },
  {
   "cell_type": "code",
   "execution_count": 1,
   "metadata": {},
   "outputs": [],
   "source": [
    "import os\n",
    "import pandas as pd\n",
    "import numpy as np\n",
    "from scipy.signal import butter, filtfilt, decimate\n",
    "from obspy import read\n",
    "from tqdm import tqdm"
   ]
  },
  {
   "cell_type": "code",
   "execution_count": 2,
   "metadata": {},
   "outputs": [],
   "source": [
    "path_data = '/home/data' \n",
    "noise_path = path_data + '/NoiseSegs'\n",
    "whale_call_path = path_data + '/WhaleCalls'\n",
    "true_negative_path = path_data + '/SeisSegs'\n",
    "\n",
    "ls_noise = os.listdir(noise_path)\n",
    "ls_whale_call = os.listdir(whale_call_path)\n",
    "ls_true_negative = os.listdir(true_negative_path)"
   ]
  },
  {
   "cell_type": "code",
   "execution_count": 3,
   "metadata": {},
   "outputs": [],
   "source": [
    "def bandfilt(tr, lower_cutoff=10, upper_cutoff=45, filter_order = 4):\n",
    "    ''' Filter the trace using a bandpass filter.\n",
    "    '''\n",
    "    sr = tr.stats.sampling_rate\n",
    "    tr_filt = tr\n",
    "    nyquist_frequency = sr / 2\n",
    "    b, a = butter(filter_order, [lower_cutoff / nyquist_frequency, upper_cutoff / nyquist_frequency], btype='band')\n",
    "    tr_filt_data = filtfilt(b, a, tr.data)\n",
    "    tr_filt = tr.copy()\n",
    "    tr_filt.data = tr_filt_data\n",
    "\n",
    "    return tr_filt"
   ]
  },
  {
   "cell_type": "code",
   "execution_count": 4,
   "metadata": {},
   "outputs": [],
   "source": [
    "def resample(tr, target_sr = 100):\n",
    "    ''' Resample the trace to a target sampling rate.\n",
    "    '''\n",
    "    factor = round(tr.stats.sampling_rate / target_sr)\n",
    "    tr.decimate(factor=factor, strict_length=False, no_filter=True)\n",
    "\n",
    "    return tr, factor"
   ]
  },
  {
   "cell_type": "code",
   "execution_count": 7,
   "metadata": {},
   "outputs": [],
   "source": [
    "def homogenizer(tr, target_sr=100, target_filt = [10, 45], print_details=False):\n",
    "    '''Receives a trace and resample it in case sampling rate is different from target sampling rate, also apply a filter to the trace.\n",
    "    '''\n",
    "    sr = tr.stats.sampling_rate\n",
    "    if sr > target_sr + 1 or sr < target_sr - 1: # if sampling rate is not target_sr\n",
    "        tr, factor = resample(tr, target_sr=target_sr) # antialiasing filter\n",
    "        if print_details:\n",
    "            print(f'Resampled from {sr} Hz to {target_sr} Hz.')\n",
    "            print(f'Decimation factor: {factor}')\n",
    "            print(f'New sampling rate: {tr.stats.sampling_rate}')\n",
    "            print('\\n')\n",
    "    tr = bandfilt(tr, lower_cutoff=target_filt[0], upper_cutoff=target_filt[1]) # antialiasing filter\n",
    "    tr.data /= max(tr.data)\n",
    "\n",
    "    return tr\n"
   ]
  },
  {
   "cell_type": "code",
   "execution_count": 8,
   "metadata": {},
   "outputs": [],
   "source": [
    "save_path = path_data + '/eval_dataset'"
   ]
  },
  {
   "cell_type": "code",
   "execution_count": 9,
   "metadata": {},
   "outputs": [
    {
     "name": "stderr",
     "output_type": "stream",
     "text": [
      "100%|███████████████████████████████████████| 1000/1000 [00:43<00:00, 23.09it/s]\n",
      "100%|███████████████████████████████████████| 1000/1000 [00:21<00:00, 46.05it/s]\n",
      "100%|███████████████████████████████████████| 2000/2000 [00:29<00:00, 67.23it/s]\n"
     ]
    }
   ],
   "source": [
    "n_call_true_noise = 1000 # whales + true noise of different amplitudes (no need to include noises that are too high)\n",
    "n_call_superimposed_call = 1000 # whales + superimposed calls + true noise of different amplitudes\n",
    "n_true_noise = 2000 # true noises (with seismic shots)\n",
    "\n",
    "# Whale call + True noises\n",
    "type_ = 1\n",
    "for i in tqdm(range(n_call_true_noise)):\n",
    "    len_call = 1\n",
    "    len_true_noise = 0\n",
    "    while len_call > len_true_noise:\n",
    "        fname = ls_whale_call[np.random.randint(0, len(ls_whale_call) - 1)]\n",
    "        call = read(whale_call_path + '/' + fname)\n",
    "        call = homogenizer(call[0], target_sr=100, target_filt = [10, 45], print_details=False)\n",
    "        fname2 = ls_noise[np.random.randint(0, len(ls_noise) - 1)]\n",
    "        true_noise = read(noise_path + '/' + fname2)\n",
    "        true_noise = homogenizer(true_noise[0], target_sr=100, target_filt = [10, 45], print_details=False)\n",
    "        len_call = len(call.data)\n",
    "        len_true_noise = len(true_noise.data)\n",
    "    # Calculate noie level based on Gaussian distribution\n",
    "    mean = 0.5\n",
    "    std_dev = 0.2\n",
    "    noise_level = np.clip(np.random.normal(mean, std_dev), 0.1, 0.9)\n",
    "    # Random index to join the two traces\n",
    "    dif = len_true_noise - len_call\n",
    "    idx_rand = np.random.randint(0, dif)\n",
    "    if np.random.randint(0, 2) == 0:\n",
    "        sign = -1\n",
    "    else:\n",
    "        sign = 1\n",
    "    if sign > 0:\n",
    "        true_noise_v2 = true_noise.data[idx_rand:idx_rand + len(call.data)]\n",
    "    else:\n",
    "        true_noise_v2 = true_noise.data[-idx_rand-len(call.data):-idx_rand ]\n",
    "    true_noise_v2 *= noise_level\n",
    "    #call.plot();\n",
    "    call.data += true_noise_v2\n",
    "    #call.plot();\n",
    "    call.write(save_path + '/' + f'{type_}_{i}_' + fname)\n",
    "    #break\n",
    "\n",
    "# Whale call + Superimposed calls + true noise of different amplitudes\n",
    "type_ = 2\n",
    "for i in tqdm(range(n_call_superimposed_call)):\n",
    "    len_call = 1\n",
    "    len_call2 = 0\n",
    "    while len_call > len_call2:\n",
    "        fname = ls_whale_call[np.random.randint(0, len(ls_whale_call) - 1)]\n",
    "        call = read(whale_call_path + '/' + fname)\n",
    "        call = homogenizer(call[0], target_sr=100, target_filt = [10, 45], print_details=False)\n",
    "        fname2 = ls_whale_call[np.random.randint(0, len(ls_whale_call) - 1)]\n",
    "        call2 = read(whale_call_path + '/' + fname2)\n",
    "        call2 = homogenizer(call2[0], target_sr=100, target_filt = [10, 45], print_details=False)\n",
    "        len_call = len(call.data)\n",
    "        len_call2 = len(call2.data)\n",
    "    # Calculate noise level based on Gaussian distribution\n",
    "    mean = 1\n",
    "    std_dev = 1\n",
    "    noise_level = np.clip(np.random.normal(mean, std_dev), 0.3, 2)\n",
    "    # Random index to join the two traces\n",
    "    dif = len_call2 - len_call\n",
    "    if dif != 0:\n",
    "        idx_rand = np.random.randint(0, dif)\n",
    "    else:\n",
    "        idx_rand = 0\n",
    "    call2_v2 = call2.data[idx_rand:idx_rand + len(call.data)]\n",
    "    delay = idx_rand * call2.stats.delta # in seconds\n",
    "    pick_corrected = call2.stats.sac.a - delay\n",
    "    call2_v2 *= noise_level\n",
    "    #call.plot(color='red');\n",
    "    call.data += call2_v2\n",
    "    #call.plot(color='red');\n",
    "    call.stats['sac']['t0'] = pick_corrected\n",
    "    call.stats['sac']['kt0'] = 'P'\n",
    "    call.write(save_path + '/' + f'{type_}_{i}_' + fname)\n",
    "    #break\n",
    "\n",
    "# True noises\n",
    "type_ = 0\n",
    "for i in tqdm(range(n_true_noise)):\n",
    "    fname = ls_true_negative[np.random.randint(0, len(ls_true_negative) - 1)]\n",
    "    noise = read(true_negative_path + '/' + fname)\n",
    "    noise = homogenizer(noise[0], target_sr=100, target_filt = [10, 45], print_details=False)\n",
    "    #noise.plot(color='blue');\n",
    "    noise.write(save_path + '/' + f'{type_}_{i}_' + fname)\n",
    "    #break"
   ]
  },
  {
   "cell_type": "markdown",
   "metadata": {},
   "source": [
    "type_ == 0: True noises (with seismic shots)\n",
    "\n",
    "type_ == 1: Whale call + True noise (without seismic shots)\n",
    "\n",
    "type_ == 2: Whale call + Superimposed calls + true noise of different amplitudes\n"
   ]
  },
  {
   "cell_type": "code",
   "execution_count": null,
   "metadata": {},
   "outputs": [],
   "source": []
  }
 ],
 "metadata": {
  "kernelspec": {
   "display_name": "Python 3 (ipykernel)",
   "language": "python",
   "name": "python3"
  },
  "language_info": {
   "codemirror_mode": {
    "name": "ipython",
    "version": 3
   },
   "file_extension": ".py",
   "mimetype": "text/x-python",
   "name": "python",
   "nbconvert_exporter": "python",
   "pygments_lexer": "ipython3",
   "version": "3.9.13"
  }
 },
 "nbformat": 4,
 "nbformat_minor": 4
}
