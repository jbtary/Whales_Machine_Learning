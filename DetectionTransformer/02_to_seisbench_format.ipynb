{
 "cells": [
  {
   "cell_type": "markdown",
   "id": "4d6f25d1",
   "metadata": {},
   "source": [
    "# Notebook to turn training samples into Seisbench format\n",
    "## The final files created will be used to train the ML model"
   ]
  },
  {
   "cell_type": "code",
   "execution_count": 27,
   "id": "106cadb2-b7e3-4286-80b1-057f5ebc45fe",
   "metadata": {},
   "outputs": [],
   "source": [
    "import os\n",
    "from obspy import read, read_events\n",
    "from obspy.core.event import Event, Origin, Magnitude, Catalog, EventDescription, Pick\n",
    "from obspy.core.event.origin import OriginUncertainty\n",
    "import numpy as np\n",
    "from tqdm import tqdm\n",
    "from pathlib import Path\n",
    "import seisbench.data as sbd\n",
    "import seisbench.util as sbu\n",
    "import matplotlib.pyplot as plt\n",
    "from collections import Counter\n",
    "from joblib import Parallel, delayed"
   ]
  },
  {
   "cell_type": "code",
   "execution_count": 28,
   "id": "66504a1f-fc8f-41e2-b607-ca929a4d2b48",
   "metadata": {},
   "outputs": [],
   "source": [
    "def create_event(save_path, fname, waveform):\n",
    "    # Create an Origin object\n",
    "    origin = Origin()\n",
    "    origin.time = waveform[0].stats.starttime  # Using the start time of the waveform as the origin time\n",
    "    origin.latitude = 0.0  # Replace with actual latitude\n",
    "    origin.longitude = 0.0  # Replace with actual longitude\n",
    "    origin.depth = 0.0  # Replace with actual depth in meters\n",
    "\n",
    "    # Create a Magnitude object\n",
    "    magnitude = Magnitude()\n",
    "    magnitude.mag = 0.0  # Replace with actual magnitude\n",
    "    magnitude.magnitude_type = \"\"\n",
    "\n",
    "    # Create an Event object\n",
    "    event = Event()\n",
    "    event.origins.append(origin)\n",
    "    event.magnitudes.append(magnitude)\n",
    "\n",
    "    # Create a Pick object\n",
    "    pick = Pick()\n",
    "    pick.time = waveform[0].stats.starttime + waveform[0].stats.sac.a   # Example pick time, replace with actual pick time\n",
    "    pick.waveform_id = 'original'\n",
    "    pick.phase_hint = \"P\"  # Phase type, e.g., P or S\n",
    "    event.picks.append(pick)\n",
    "    if 't0' in list(waveform[0].stats.sac.keys()):\n",
    "        pick = Pick()\n",
    "        pick.time = waveform[0].stats.starttime + waveform[0].stats.sac.t0   # Example pick time, replace with actual pick time\n",
    "        pick.waveform_id = 'augmentation'\n",
    "        pick.phase_hint = \"P\"  # Phase type, e.g., P or S\n",
    "        event.picks.append(pick)\n",
    "\n",
    "    # Add additional information to the event\n",
    "    event.event_type = \"other event\"  # Use a valid event type\n",
    "    text_description = ''\n",
    "    if 'kuser0' in list(waveform[0].stats.sac.keys()):\n",
    "        text_description += waveform[0].stats.sac.kuser0\n",
    "    if 'kuser1' in list(waveform[0].stats.sac.keys()):\n",
    "        text_description += '_'\n",
    "        text_description += waveform[0].stats.sac.kuser1\n",
    "        \n",
    "    event_descriptions = EventDescription(text=text_description)\n",
    "    event.event_descriptions.append(event_descriptions)\n",
    "    event.write(save_path + '/' + fname.replace('sac', 'xml'), format='quakeml')\n",
    "\n",
    "    return event"
   ]
  },
  {
   "cell_type": "code",
   "execution_count": 29,
   "id": "3ef7d593-184d-4e14-91b1-69affd3d2725",
   "metadata": {},
   "outputs": [],
   "source": [
    "path = '/home/data/augmentation_data'\n",
    "save_path = '/home/data/augmentation_data_catalog'\n",
    "ls_augmentations = os.listdir(path)"
   ]
  },
  {
   "cell_type": "code",
   "execution_count": 30,
   "id": "2fc5b5ac-702a-403e-827e-19a83fb6a94a",
   "metadata": {},
   "outputs": [],
   "source": [
    "def process_cat(fname, path, save_path):\n",
    "    wf = read(os.path.join(path, fname))\n",
    "    event = create_event(save_path, fname, wf)\n",
    "\n",
    "run = False\n",
    "if run:\n",
    "    Parallel(n_jobs=-1)(delayed(process_cat)(fname, path, save_path) for fname in tqdm(ls_augmentations))"
   ]
  },
  {
   "cell_type": "code",
   "execution_count": 31,
   "id": "742a2221-e580-4bef-b844-658dbb5e21cf",
   "metadata": {},
   "outputs": [],
   "source": [
    "path_events = '/home/data/augmentation_data_catalog'\n",
    "ls_events = os.listdir(path_events)"
   ]
  },
  {
   "cell_type": "code",
   "execution_count": 32,
   "id": "5f7bc6a2-f2c7-4089-be0f-391097351505",
   "metadata": {},
   "outputs": [],
   "source": [
    "def process_event_file(fname, path_events):\n",
    "    ev = read_events(os.path.join(path_events, fname))\n",
    "    return ev"
   ]
  },
  {
   "cell_type": "code",
   "execution_count": 33,
   "id": "258434db-060e-48d3-8181-a4b05ba4d20a",
   "metadata": {},
   "outputs": [],
   "source": [
    "run = False\n",
    "if run:\n",
    "    # Run in parallel using joblib to read the event files\n",
    "    results = Parallel(n_jobs=-1)(delayed(process_event_file)(fname, path_events) for fname in tqdm(ls_events))\n",
    "\n",
    "    # Combine the results (events) into one catalog\n",
    "    cat = results[0]\n",
    "    for ev in results[1:]:\n",
    "        cat += ev\n",
    "    \n",
    "    # Write the full catalog to a file\n",
    "    cat.write('cat_full.xml', format='QUAKEML')"
   ]
  },
  {
   "cell_type": "code",
   "execution_count": 34,
   "id": "af22ebc3-681e-4e20-bcfe-42468198a2c4",
   "metadata": {},
   "outputs": [],
   "source": [
    "run = False\n",
    "if run:\n",
    "    cat = read_events('cat_full.xml')"
   ]
  },
  {
   "cell_type": "markdown",
   "id": "10591267-f298-4e3a-85d1-0a3d100f58b5",
   "metadata": {},
   "source": [
    "### Seisbench format"
   ]
  },
  {
   "cell_type": "code",
   "execution_count": 35,
   "id": "acaea83e-d088-41bd-9935-01a52cbd1aa3",
   "metadata": {},
   "outputs": [],
   "source": [
    "path_wf = '/home/data/augmentation_data'\n",
    "ls_wf = os.listdir(path_wf)\n",
    "path_cat = '/home/data/augmentation_data_catalog'\n",
    "ls_ev = os.listdir(path_cat)"
   ]
  },
  {
   "cell_type": "code",
   "execution_count": 36,
   "id": "3f28bb6d-7cf0-49d0-bc26-3378c56a295d",
   "metadata": {},
   "outputs": [],
   "source": [
    "def get_event_params(event):\n",
    "    origin = event.origins[0].time\n",
    "    mag = 0.0   # generic for all events\n",
    "    \n",
    "    source_id = ''   # generic for all events\n",
    "    \n",
    "    event_params = {\n",
    "        'source_id':source_id,\n",
    "        'source_origin_time': str(origin),\n",
    "        'source_origin_uncertainty_sec': 0.0,\n",
    "        'source_latitude_deg': event.origins[0].latitude,\n",
    "        'source_latitude_uncertainty_km': 0.0,\n",
    "        'source_longitude_deg': event.origins[0].longitude,\n",
    "        'source_longitude_uncertainty_km': 0.0,\n",
    "        'source_depth_km': 0.0,\n",
    "        'source_depth_uncertainty_km': 0.0\n",
    "    }\n",
    "    \n",
    "    if mag is not None:\n",
    "        event_params['source_magnitude'] = mag\n",
    "        event_params['source_magnitude_uncertainty'] = 0.0\n",
    "        event_params['source_magnitude_type'] = ''\n",
    "        event_params['source_magnitude_author'] = ''\n",
    "        \n",
    "    return event_params"
   ]
  },
  {
   "cell_type": "code",
   "execution_count": 37,
   "id": "8e33705d-502d-4509-a095-77b4834f3eef",
   "metadata": {},
   "outputs": [
    {
     "data": {
      "text/plain": [
       "{'station_network_code': 'PB',\n",
       " 'station_code': 'HYP',\n",
       " 'trace_channel': 'HHZ',\n",
       " 'station_location_code': '00'}"
      ]
     },
     "execution_count": 37,
     "metadata": {},
     "output_type": "execute_result"
    }
   ],
   "source": [
    "def get_trace_params():\n",
    "    \n",
    "    trace_params = {\n",
    "        'station_network_code': 'PB',\n",
    "        'station_code': 'HYP',\n",
    "        'trace_channel': 'HHZ',\n",
    "        'station_location_code': '00'\n",
    "    }\n",
    "    \n",
    "    return trace_params\n",
    "get_trace_params()"
   ]
  },
  {
   "cell_type": "code",
   "execution_count": 42,
   "id": "a9646e4b-0c2e-4095-bc6b-13649b319a43",
   "metadata": {},
   "outputs": [
    {
     "name": "stderr",
     "output_type": "stream",
     "text": [
      "Traces converted: 890214it [01:34, 9422.29it/s] \n"
     ]
    }
   ],
   "source": [
    "def process_event(event_batch, weights, count_start, ls_ev_len, path_cat, path_wf):\n",
    "    count = count_start\n",
    "    results = []\n",
    "    \n",
    "    for fname in event_batch:\n",
    "        # Read the event and waveform\n",
    "        event = read_events(path_cat + '/' + fname)[0]\n",
    "        waveforms = read(path_wf + '/' + fname.replace('xml', 'sac'))\n",
    "        event_params = get_event_params(event)\n",
    "\n",
    "        # Set split (train/dev/test) based on counts\n",
    "        if count < int(ls_ev_len * weights[0]):\n",
    "            event_params['split'] = 'train'\n",
    "        elif count >= int(ls_ev_len * weights[0]) and count < int(ls_ev_len * (weights[0] + weights[1])):\n",
    "            event_params['split'] = 'dev'\n",
    "        else:\n",
    "            event_params['split'] = 'test'\n",
    "\n",
    "        if event.picks:\n",
    "            trace_params = get_trace_params()\n",
    "            sampling_rate = waveforms[0].stats.sampling_rate\n",
    "            actual_t_start, data, _ = sbu.stream_to_array(waveforms, component_order='Z')\n",
    "            trace_params['trace_sampling_rate_hz'] = sampling_rate\n",
    "            trace_params['trace_start_time'] = str(actual_t_start)\n",
    "\n",
    "            for j, pick in enumerate(event.picks):\n",
    "                sample = (pick.time - actual_t_start) * sampling_rate\n",
    "                trace_params[f'trace_{pick.phase_hint}_{j+1}_arrival_sample'] = int(sample)\n",
    "                trace_params[f'trace_{pick.phase_hint}_{j+1}_status'] = pick.evaluation_mode\n",
    "\n",
    "            # Collect data and parameters to return to main thread\n",
    "            results.append(({**event_params, **trace_params}, data))\n",
    "        \n",
    "        count += 1\n",
    "\n",
    "    return results\n",
    "\n",
    "def create_seisbench_data(weights, ls_ev, path_cat, path_wf, batch_size=1000):\n",
    "    base_path = Path('.')\n",
    "    metadata_path = base_path / 'metadata.csv'\n",
    "    waveforms_path = base_path / 'waveforms.hdf5'\n",
    "    \n",
    "    # Number of CPU cores available\n",
    "    num_cores = multiprocessing.cpu_count()\n",
    "    \n",
    "    # Split into batches\n",
    "    batches = np.array_split(ls_ev, len(ls_ev) // batch_size)\n",
    "    \n",
    "    # Process in parallel\n",
    "    results = Parallel(n_jobs=num_cores)(\n",
    "        delayed(process_event)(batch, weights, count * batch_size, len(ls_ev), path_cat, path_wf)\n",
    "        for count, batch in enumerate(batches)\n",
    "    )\n",
    "\n",
    "    # Sequential writing to a single HDF5 file\n",
    "    with sbd.WaveformDataWriter(metadata_path, waveforms_path) as writer:\n",
    "        writer.data_format = {\n",
    "            'dimension_order': 'CW', \n",
    "            'component_order': 'Z',  \n",
    "            'measurement': 'velocity', \n",
    "            'unit': 'counts', \n",
    "            'instrument response': 'not restituted'\n",
    "        }\n",
    "        \n",
    "        for batch_results in results:\n",
    "            for event_params, data in batch_results:\n",
    "                writer.add_trace(event_params, data)\n",
    "\n",
    "run = False\n",
    "if run:\n",
    "    # Example usage:\n",
    "    weights = [0.85, 0.05, 0.10]  # Train, validation, test split weights\n",
    "    path_cat = '/home/data/augmentation_data_catalog'  # Path to the catalog directory\n",
    "    path_wf = '/home/data/augmentation_data'  # Path to the waveforms directory\n",
    "    ls_ev = os.listdir(path_cat)\n",
    "    \n",
    "    create_seisbench_data(weights, ls_ev, path_cat, path_wf, batch_size=1000)"
   ]
  },
  {
   "cell_type": "code",
   "execution_count": 43,
   "id": "5e6b44eb-aff9-40bb-8e3d-e0d72d1efc89",
   "metadata": {},
   "outputs": [],
   "source": [
    "# load seisbench data\n",
    "base_path = Path('.')\n",
    "data = sbd.WaveformDataset(base_path,  component_order='Z')   # take care, if you do not set up the sampling_rate to the initial sampling rate, then your picks will change their position and indicate an incorrect time"
   ]
  },
  {
   "cell_type": "code",
   "execution_count": 44,
   "id": "8f4fcb95-3321-4cdd-b4e0-bb1faa69d828",
   "metadata": {},
   "outputs": [
    {
     "name": "stdout",
     "output_type": "stream",
     "text": [
      "Training examples: 756895\n",
      "Development examples: 44511\n",
      "Test examples: 88808\n"
     ]
    }
   ],
   "source": [
    "# length of the datasets\n",
    "print(\"Training examples:\", len(data.train()))\n",
    "print(\"Development examples:\", len(data.dev()))\n",
    "print(\"Test examples:\", len(data.test()))"
   ]
  },
  {
   "cell_type": "code",
   "execution_count": 46,
   "id": "b8b1f733-5b40-41bb-aca5-852ff69da673",
   "metadata": {},
   "outputs": [],
   "source": [
    "# Checking that picks and waveforms were correctly formated to Seisbench format\n",
    "# Verify that the pick is correct\n",
    "def plot_seisbench_data(seisbench_data, number_plots):\n",
    "    for i in range(number_plots):\n",
    "        a = np.random.randint(0,len(seisbench_data)-1)\n",
    "        fig = plt.figure(figsize=(10,7))\n",
    "        ax = fig.add_subplot(111)\n",
    "        evt = a\n",
    "        ax.plot(data.get_waveforms(evt).T)\n",
    "        ax.axvline(data.metadata['trace_P_1_arrival_sample'].iloc[evt], color='k', lw=3)\n",
    "        try:\n",
    "            ax.axvline(data.metadata['trace_P_2_arrival_sample'].iloc[evt], color='r', lw=3)\n",
    "        except:\n",
    "            pass\n",
    "        plt.show()"
   ]
  },
  {
   "cell_type": "code",
   "execution_count": 67,
   "id": "71140f22-5d2f-49a1-b6a2-f18b72a8f68d",
   "metadata": {},
   "outputs": [
    {
     "data": {
      "image/png": "[encoded data removed]",
      "text/plain": [
       "<Figure size 1000x700 with 1 Axes>"
      ]
     },
     "metadata": {},
     "output_type": "display_data"
    }
   ],
   "source": [
    "# all waveforms with a pick in the position 0 samples is an earthquake.\n",
    "seisbench_data_ = data\n",
    "number_plots_ = 1\n",
    "plot_seisbench_data(seisbench_data = seisbench_data_, number_plots = number_plots_)"
   ]
  },
  {
   "cell_type": "code",
   "execution_count": 78,
   "id": "336f5e84-a410-48ed-a8c6-1950ce8d566e",
   "metadata": {},
   "outputs": [
    {
     "data": {
      "text/plain": [
       "890214"
      ]
     },
     "execution_count": 78,
     "metadata": {},
     "output_type": "execute_result"
    }
   ],
   "source": [
    "len(data)"
   ]
  },
  {
   "cell_type": "code",
   "execution_count": 76,
   "id": "f7c2741e-26e0-4b95-844c-288fc46c736c",
   "metadata": {},
   "outputs": [
    {
     "name": "stderr",
     "output_type": "stream",
     "text": [
      "\n",
      "  0%|                                                   | 0/890 [00:00<?, ?it/s]\u001b[A\n",
      " 18%|███████▎                                 | 160/890 [01:04<04:54,  2.48it/s]\u001b[A\n",
      " 36%|██████████████▋                          | 320/890 [01:14<01:55,  4.94it/s]\u001b[A\n",
      " 36%|██████████████▋                          | 320/890 [01:31<01:55,  4.94it/s]\u001b[A\n",
      " 54%|██████████████████████                   | 480/890 [04:37<04:42,  1.45it/s]\u001b[A\n",
      " 72%|█████████████████████████████▍           | 640/890 [07:48<03:41,  1.13it/s]\u001b[A\n",
      " 72%|█████████████████████████████▌           | 641/890 [07:48<03:40,  1.13it/s]\u001b[A\n",
      " 72%|█████████████████████████████▌           | 641/890 [08:01<03:40,  1.13it/s]\u001b[A\n",
      "100%|█████████████████████████████████████████| 890/890 [11:03<00:00,  1.34it/s]\u001b[A\n"
     ]
    }
   ],
   "source": [
    "# Batch size to avoid memory overload, adjust as necessary\n",
    "batch_size = 1000\n",
    "\n",
    "# Function to process a batch of samples\n",
    "def process_batch(indices):\n",
    "    batch_results = []\n",
    "    for index in indices:\n",
    "        data_ind = data.get_sample(index)  # Retrieve the sample within the parallelized function\n",
    "        batch_results.append(len(data_ind[0][0]))\n",
    "    return batch_results\n",
    "\n",
    "# Split the indices into batches\n",
    "indices = np.array_split(range(len(data)), len(data) // batch_size)\n",
    "\n",
    "# Process batches in parallel\n",
    "results = Parallel(n_jobs=-1)(\n",
    "    delayed(process_batch)(batch) for batch in tqdm(indices)\n",
    ")\n",
    "\n",
    "# Flatten the list of results\n",
    "results = [item for sublist in results for item in sublist]"
   ]
  },
  {
   "cell_type": "code",
   "execution_count": 80,
   "id": "c2c507a7-381d-420b-981a-a0c6c550ec9e",
   "metadata": {},
   "outputs": [
    {
     "data": {
      "text/plain": [
       "array([889214, 889215, 889216, 889217, 889218, 889219, 889220, 889221,\n",
       "       889222, 889223, 889224, 889225, 889226, 889227, 889228, 889229,\n",
       "       889230, 889231, 889232, 889233, 889234, 889235, 889236, 889237,\n",
       "       889238, 889239, 889240, 889241, 889242, 889243, 889244, 889245,\n",
       "       889246, 889247, 889248, 889249, 889250, 889251, 889252, 889253,\n",
       "       889254, 889255, 889256, 889257, 889258, 889259, 889260, 889261,\n",
       "       889262, 889263, 889264, 889265, 889266, 889267, 889268, 889269,\n",
       "       889270, 889271, 889272, 889273, 889274, 889275, 889276, 889277,\n",
       "       889278, 889279, 889280, 889281, 889282, 889283, 889284, 889285,\n",
       "       889286, 889287, 889288, 889289, 889290, 889291, 889292, 889293,\n",
       "       889294, 889295, 889296, 889297, 889298, 889299, 889300, 889301,\n",
       "       889302, 889303, 889304, 889305, 889306, 889307, 889308, 889309,\n",
       "       889310, 889311, 889312, 889313, 889314, 889315, 889316, 889317,\n",
       "       889318, 889319, 889320, 889321, 889322, 889323, 889324, 889325,\n",
       "       889326, 889327, 889328, 889329, 889330, 889331, 889332, 889333,\n",
       "       889334, 889335, 889336, 889337, 889338, 889339, 889340, 889341,\n",
       "       889342, 889343, 889344, 889345, 889346, 889347, 889348, 889349,\n",
       "       889350, 889351, 889352, 889353, 889354, 889355, 889356, 889357,\n",
       "       889358, 889359, 889360, 889361, 889362, 889363, 889364, 889365,\n",
       "       889366, 889367, 889368, 889369, 889370, 889371, 889372, 889373,\n",
       "       889374, 889375, 889376, 889377, 889378, 889379, 889380, 889381,\n",
       "       889382, 889383, 889384, 889385, 889386, 889387, 889388, 889389,\n",
       "       889390, 889391, 889392, 889393, 889394, 889395, 889396, 889397,\n",
       "       889398, 889399, 889400, 889401, 889402, 889403, 889404, 889405,\n",
       "       889406, 889407, 889408, 889409, 889410, 889411, 889412, 889413,\n",
       "       889414, 889415, 889416, 889417, 889418, 889419, 889420, 889421,\n",
       "       889422, 889423, 889424, 889425, 889426, 889427, 889428, 889429,\n",
       "       889430, 889431, 889432, 889433, 889434, 889435, 889436, 889437,\n",
       "       889438, 889439, 889440, 889441, 889442, 889443, 889444, 889445,\n",
       "       889446, 889447, 889448, 889449, 889450, 889451, 889452, 889453,\n",
       "       889454, 889455, 889456, 889457, 889458, 889459, 889460, 889461,\n",
       "       889462, 889463, 889464, 889465, 889466, 889467, 889468, 889469,\n",
       "       889470, 889471, 889472, 889473, 889474, 889475, 889476, 889477,\n",
       "       889478, 889479, 889480, 889481, 889482, 889483, 889484, 889485,\n",
       "       889486, 889487, 889488, 889489, 889490, 889491, 889492, 889493,\n",
       "       889494, 889495, 889496, 889497, 889498, 889499, 889500, 889501,\n",
       "       889502, 889503, 889504, 889505, 889506, 889507, 889508, 889509,\n",
       "       889510, 889511, 889512, 889513, 889514, 889515, 889516, 889517,\n",
       "       889518, 889519, 889520, 889521, 889522, 889523, 889524, 889525,\n",
       "       889526, 889527, 889528, 889529, 889530, 889531, 889532, 889533,\n",
       "       889534, 889535, 889536, 889537, 889538, 889539, 889540, 889541,\n",
       "       889542, 889543, 889544, 889545, 889546, 889547, 889548, 889549,\n",
       "       889550, 889551, 889552, 889553, 889554, 889555, 889556, 889557,\n",
       "       889558, 889559, 889560, 889561, 889562, 889563, 889564, 889565,\n",
       "       889566, 889567, 889568, 889569, 889570, 889571, 889572, 889573,\n",
       "       889574, 889575, 889576, 889577, 889578, 889579, 889580, 889581,\n",
       "       889582, 889583, 889584, 889585, 889586, 889587, 889588, 889589,\n",
       "       889590, 889591, 889592, 889593, 889594, 889595, 889596, 889597,\n",
       "       889598, 889599, 889600, 889601, 889602, 889603, 889604, 889605,\n",
       "       889606, 889607, 889608, 889609, 889610, 889611, 889612, 889613,\n",
       "       889614, 889615, 889616, 889617, 889618, 889619, 889620, 889621,\n",
       "       889622, 889623, 889624, 889625, 889626, 889627, 889628, 889629,\n",
       "       889630, 889631, 889632, 889633, 889634, 889635, 889636, 889637,\n",
       "       889638, 889639, 889640, 889641, 889642, 889643, 889644, 889645,\n",
       "       889646, 889647, 889648, 889649, 889650, 889651, 889652, 889653,\n",
       "       889654, 889655, 889656, 889657, 889658, 889659, 889660, 889661,\n",
       "       889662, 889663, 889664, 889665, 889666, 889667, 889668, 889669,\n",
       "       889670, 889671, 889672, 889673, 889674, 889675, 889676, 889677,\n",
       "       889678, 889679, 889680, 889681, 889682, 889683, 889684, 889685,\n",
       "       889686, 889687, 889688, 889689, 889690, 889691, 889692, 889693,\n",
       "       889694, 889695, 889696, 889697, 889698, 889699, 889700, 889701,\n",
       "       889702, 889703, 889704, 889705, 889706, 889707, 889708, 889709,\n",
       "       889710, 889711, 889712, 889713, 889714, 889715, 889716, 889717,\n",
       "       889718, 889719, 889720, 889721, 889722, 889723, 889724, 889725,\n",
       "       889726, 889727, 889728, 889729, 889730, 889731, 889732, 889733,\n",
       "       889734, 889735, 889736, 889737, 889738, 889739, 889740, 889741,\n",
       "       889742, 889743, 889744, 889745, 889746, 889747, 889748, 889749,\n",
       "       889750, 889751, 889752, 889753, 889754, 889755, 889756, 889757,\n",
       "       889758, 889759, 889760, 889761, 889762, 889763, 889764, 889765,\n",
       "       889766, 889767, 889768, 889769, 889770, 889771, 889772, 889773,\n",
       "       889774, 889775, 889776, 889777, 889778, 889779, 889780, 889781,\n",
       "       889782, 889783, 889784, 889785, 889786, 889787, 889788, 889789,\n",
       "       889790, 889791, 889792, 889793, 889794, 889795, 889796, 889797,\n",
       "       889798, 889799, 889800, 889801, 889802, 889803, 889804, 889805,\n",
       "       889806, 889807, 889808, 889809, 889810, 889811, 889812, 889813,\n",
       "       889814, 889815, 889816, 889817, 889818, 889819, 889820, 889821,\n",
       "       889822, 889823, 889824, 889825, 889826, 889827, 889828, 889829,\n",
       "       889830, 889831, 889832, 889833, 889834, 889835, 889836, 889837,\n",
       "       889838, 889839, 889840, 889841, 889842, 889843, 889844, 889845,\n",
       "       889846, 889847, 889848, 889849, 889850, 889851, 889852, 889853,\n",
       "       889854, 889855, 889856, 889857, 889858, 889859, 889860, 889861,\n",
       "       889862, 889863, 889864, 889865, 889866, 889867, 889868, 889869,\n",
       "       889870, 889871, 889872, 889873, 889874, 889875, 889876, 889877,\n",
       "       889878, 889879, 889880, 889881, 889882, 889883, 889884, 889885,\n",
       "       889886, 889887, 889888, 889889, 889890, 889891, 889892, 889893,\n",
       "       889894, 889895, 889896, 889897, 889898, 889899, 889900, 889901,\n",
       "       889902, 889903, 889904, 889905, 889906, 889907, 889908, 889909,\n",
       "       889910, 889911, 889912, 889913, 889914, 889915, 889916, 889917,\n",
       "       889918, 889919, 889920, 889921, 889922, 889923, 889924, 889925,\n",
       "       889926, 889927, 889928, 889929, 889930, 889931, 889932, 889933,\n",
       "       889934, 889935, 889936, 889937, 889938, 889939, 889940, 889941,\n",
       "       889942, 889943, 889944, 889945, 889946, 889947, 889948, 889949,\n",
       "       889950, 889951, 889952, 889953, 889954, 889955, 889956, 889957,\n",
       "       889958, 889959, 889960, 889961, 889962, 889963, 889964, 889965,\n",
       "       889966, 889967, 889968, 889969, 889970, 889971, 889972, 889973,\n",
       "       889974, 889975, 889976, 889977, 889978, 889979, 889980, 889981,\n",
       "       889982, 889983, 889984, 889985, 889986, 889987, 889988, 889989,\n",
       "       889990, 889991, 889992, 889993, 889994, 889995, 889996, 889997,\n",
       "       889998, 889999, 890000, 890001, 890002, 890003, 890004, 890005,\n",
       "       890006, 890007, 890008, 890009, 890010, 890011, 890012, 890013,\n",
       "       890014, 890015, 890016, 890017, 890018, 890019, 890020, 890021,\n",
       "       890022, 890023, 890024, 890025, 890026, 890027, 890028, 890029,\n",
       "       890030, 890031, 890032, 890033, 890034, 890035, 890036, 890037,\n",
       "       890038, 890039, 890040, 890041, 890042, 890043, 890044, 890045,\n",
       "       890046, 890047, 890048, 890049, 890050, 890051, 890052, 890053,\n",
       "       890054, 890055, 890056, 890057, 890058, 890059, 890060, 890061,\n",
       "       890062, 890063, 890064, 890065, 890066, 890067, 890068, 890069,\n",
       "       890070, 890071, 890072, 890073, 890074, 890075, 890076, 890077,\n",
       "       890078, 890079, 890080, 890081, 890082, 890083, 890084, 890085,\n",
       "       890086, 890087, 890088, 890089, 890090, 890091, 890092, 890093,\n",
       "       890094, 890095, 890096, 890097, 890098, 890099, 890100, 890101,\n",
       "       890102, 890103, 890104, 890105, 890106, 890107, 890108, 890109,\n",
       "       890110, 890111, 890112, 890113, 890114, 890115, 890116, 890117,\n",
       "       890118, 890119, 890120, 890121, 890122, 890123, 890124, 890125,\n",
       "       890126, 890127, 890128, 890129, 890130, 890131, 890132, 890133,\n",
       "       890134, 890135, 890136, 890137, 890138, 890139, 890140, 890141,\n",
       "       890142, 890143, 890144, 890145, 890146, 890147, 890148, 890149,\n",
       "       890150, 890151, 890152, 890153, 890154, 890155, 890156, 890157,\n",
       "       890158, 890159, 890160, 890161, 890162, 890163, 890164, 890165,\n",
       "       890166, 890167, 890168, 890169, 890170, 890171, 890172, 890173,\n",
       "       890174, 890175, 890176, 890177, 890178, 890179, 890180, 890181,\n",
       "       890182, 890183, 890184, 890185, 890186, 890187, 890188, 890189,\n",
       "       890190, 890191, 890192, 890193, 890194, 890195, 890196, 890197,\n",
       "       890198, 890199, 890200, 890201, 890202, 890203, 890204, 890205,\n",
       "       890206, 890207, 890208, 890209, 890210, 890211, 890212, 890213])"
      ]
     },
     "execution_count": 80,
     "metadata": {},
     "output_type": "execute_result"
    }
   ],
   "source": [
    "indices[-1]"
   ]
  },
  {
   "cell_type": "code",
   "execution_count": 88,
   "id": "bac9bdfa-a3a4-4083-8ffb-878bf4ab6d0f",
   "metadata": {
    "scrolled": true
   },
   "outputs": [
    {
     "name": "stdout",
     "output_type": "stream",
     "text": [
      "Distribution of lengths for training data. Most of them are 2201 samples long, too few are 4601 samples long.\n",
      "2201: 167963\n",
      "2301: 226846\n",
      "2401: 62418\n",
      "2501: 71003\n",
      "2601: 62519\n",
      "2700: 3535\n",
      "2701: 24139\n",
      "2800: 3737\n",
      "2801: 18786\n",
      "2900: 14746\n",
      "2901: 12726\n",
      "3000: 12423\n",
      "3001: 12625\n",
      "3100: 13130\n",
      "3101: 6161\n",
      "3200: 22523\n",
      "3201: 2424\n",
      "3301: 55752\n",
      "3401: 31411\n",
      "3501: 13635\n",
      "3601: 21210\n",
      "3701: 9595\n",
      "3801: 5454\n",
      "3901: 9595\n",
      "4001: 202\n",
      "4100: 2121\n",
      "4200: 1212\n",
      "4300: 1111\n",
      "4500: 707\n",
      "4601: 505\n",
      "Total:  890214\n"
     ]
    }
   ],
   "source": [
    "# Count occurrences\n",
    "print('Distribution of lengths for training data. Most of them are 2201 samples long, too few are 4601 samples long.')\n",
    "counter = Counter(results)\n",
    "# Sort by frequency in descending order\n",
    "sorted_counts = sorted(counter.items(), key=lambda item: item[0], reverse=False)\n",
    "\n",
    "# Print the counts\n",
    "total = 0\n",
    "ls_count = []\n",
    "for word, count in sorted_counts:\n",
    "    print(f'{word}: {count}')\n",
    "    total += count\n",
    "    ls_count.append(count)\n",
    "print('Total: ', total)"
   ]
  },
  {
   "cell_type": "code",
   "execution_count": 91,
   "id": "60eda351-2e48-424b-9705-7f8df7aa2462",
   "metadata": {},
   "outputs": [
    {
     "data": {
      "text/plain": [
       "array([0.1886771 , 0.44349898, 0.5136147 , 0.59337418, 0.66360336,\n",
       "       0.66757431, 0.69469027, 0.69888813, 0.71999092, 0.73655548,\n",
       "       0.75085092, 0.76480599, 0.77898797, 0.79373724, 0.80065804,\n",
       "       0.8259587 , 0.82868164, 0.89130928, 0.92659405, 0.9419106 ,\n",
       "       0.96573633, 0.97651464, 0.98264125, 0.99341956, 0.99364647,\n",
       "       0.99602904, 0.99739052, 0.99863853, 0.99943272, 1.        ])"
      ]
     },
     "execution_count": 91,
     "metadata": {},
     "output_type": "execute_result"
    }
   ],
   "source": [
    "np.cumsum(np.array(ls_count)) / np.sum(np.array(ls_count))"
   ]
  }
 ],
 "metadata": {
  "kernelspec": {
   "display_name": "Python 3 (ipykernel)",
   "language": "python",
   "name": "python3"
  },
  "language_info": {
   "codemirror_mode": {
    "name": "ipython",
    "version": 3
   },
   "file_extension": ".py",
   "mimetype": "text/x-python",
   "name": "python",
   "nbconvert_exporter": "python",
   "pygments_lexer": "ipython3",
   "version": "3.9.13"
  }
 },
 "nbformat": 4,
 "nbformat_minor": 5
}
